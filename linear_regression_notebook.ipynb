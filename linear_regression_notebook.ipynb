{
 "cells": [
  {
   "cell_type": "markdown",
   "id": "168a1b6f",
   "metadata": {
    "pycharm": {
     "name": "#%% md\n"
    }
   },
   "source": [
    "                                                                                https://github.com/sidhantx/LinearRegression"
   ]
  },
  {
   "cell_type": "markdown",
   "id": "98d2b0e3",
   "metadata": {
    "pycharm": {
     "name": "#%% md\n"
    }
   },
   "source": [
    "# Linear Regression\n",
    "dataset: https://www.kaggle.com/ishaanv/ISLR-Auto?select=Advertising.csv\n",
    "\n",
    "Linear Regression is the process of fitting a line to a set of data, and the best fit line is called the regression line. For example let's we want to model increase in sales of a store by spending money on advertisment on TV. The sales here is the response variable, also denoted as $Y$, and  advertisement is the predictor, denoted as $X$. The model described here is called a bivariate linear model because there are only two variables $X$ and $Y$. The equation for this model can be written as :\n",
    "\n",
    "\n",
    "$\\hat{Y} = \\hat{\\beta_0} + \\hat{\\beta_1} X + \\epsilon $\n",
    "\n",
    "where: \n",
    "\n",
    "$\\hat{\\beta_0}$ is the intercept,\n",
    "\n",
    "and  $\\hat{\\beta_1}$ is the called the slope of X. \n",
    "\n",
    "In general $\\hat{beta_i} , i=0,1,2,3$ are also knows as parameters of the linear model.\n",
    "\n",
    "$\\epsilon $ is the mean-zero random error term"
   ]
  },
  {
   "cell_type": "code",
   "execution_count": 1,
   "id": "2402cc26",
   "metadata": {
    "pycharm": {
     "name": "#%%\n"
    },
    "scrolled": true
   },
   "outputs": [
    {
     "data": {
      "text/html": [
       "<div>\n",
       "<style scoped>\n",
       "    .dataframe tbody tr th:only-of-type {\n",
       "        vertical-align: middle;\n",
       "    }\n",
       "\n",
       "    .dataframe tbody tr th {\n",
       "        vertical-align: top;\n",
       "    }\n",
       "\n",
       "    .dataframe thead th {\n",
       "        text-align: right;\n",
       "    }\n",
       "</style>\n",
       "<table border=\"1\" class=\"dataframe\">\n",
       "  <thead>\n",
       "    <tr style=\"text-align: right;\">\n",
       "      <th></th>\n",
       "      <th>TV</th>\n",
       "      <th>Radio</th>\n",
       "      <th>Newspaper</th>\n",
       "      <th>Sales</th>\n",
       "    </tr>\n",
       "  </thead>\n",
       "  <tbody>\n",
       "    <tr>\n",
       "      <th>0</th>\n",
       "      <td>230.1</td>\n",
       "      <td>37.8</td>\n",
       "      <td>69.2</td>\n",
       "      <td>22.1</td>\n",
       "    </tr>\n",
       "    <tr>\n",
       "      <th>1</th>\n",
       "      <td>44.5</td>\n",
       "      <td>39.3</td>\n",
       "      <td>45.1</td>\n",
       "      <td>10.4</td>\n",
       "    </tr>\n",
       "    <tr>\n",
       "      <th>2</th>\n",
       "      <td>17.2</td>\n",
       "      <td>45.9</td>\n",
       "      <td>69.3</td>\n",
       "      <td>9.3</td>\n",
       "    </tr>\n",
       "    <tr>\n",
       "      <th>3</th>\n",
       "      <td>151.5</td>\n",
       "      <td>41.3</td>\n",
       "      <td>58.5</td>\n",
       "      <td>18.5</td>\n",
       "    </tr>\n",
       "    <tr>\n",
       "      <th>4</th>\n",
       "      <td>180.8</td>\n",
       "      <td>10.8</td>\n",
       "      <td>58.4</td>\n",
       "      <td>12.9</td>\n",
       "    </tr>\n",
       "  </tbody>\n",
       "</table>\n",
       "</div>"
      ],
      "text/plain": [
       "      TV  Radio  Newspaper  Sales\n",
       "0  230.1   37.8       69.2   22.1\n",
       "1   44.5   39.3       45.1   10.4\n",
       "2   17.2   45.9       69.3    9.3\n",
       "3  151.5   41.3       58.5   18.5\n",
       "4  180.8   10.8       58.4   12.9"
      ]
     },
     "execution_count": 1,
     "metadata": {},
     "output_type": "execute_result"
    }
   ],
   "source": [
    "import pandas as pd\n",
    "import seaborn as sns\n",
    "import matplotlib.pyplot as plt\n",
    "\n",
    "df = pd.read_csv(\"Advertising.csv\")\n",
    "\n",
    "df.head()"
   ]
  },
  {
   "cell_type": "code",
   "execution_count": 2,
   "id": "da1bb6e0",
   "metadata": {
    "pycharm": {
     "name": "#%%\n"
    }
   },
   "outputs": [
    {
     "data": {
      "text/plain": [
       "200"
      ]
     },
     "execution_count": 2,
     "metadata": {},
     "output_type": "execute_result"
    }
   ],
   "source": [
    "len(df)"
   ]
  },
  {
   "cell_type": "code",
   "execution_count": 3,
   "id": "44453d1d",
   "metadata": {
    "pycharm": {
     "name": "#%%\n"
    }
   },
   "outputs": [
    {
     "data": {
      "image/png": "[encoded data removed]",
      "text/plain": [
       "<Figure size 864x432 with 1 Axes>"
      ]
     },
     "metadata": {
      "needs_background": "light"
     },
     "output_type": "display_data"
    }
   ],
   "source": [
    "fig, ax =plt.subplots(figsize=(12,6))\n",
    "ax.scatter(df[\"TV\"].values, df[\"Sales\"].values, s=10 )\n",
    "ax.set_xlabel(\"TV advertising (1000$)\")\n",
    "ax.set_ylabel(\"Sales (1000$)\")\n",
    "plt.title(\"Scatterolot of TV advertising vs Sales\")\n",
    "plt.show()"
   ]
  },
  {
   "cell_type": "markdown",
   "id": "6c62d1c8",
   "metadata": {
    "pycharm": {
     "name": "#%% md\n"
    }
   },
   "source": [
    "### Linear Regression with statmodels"
   ]
  },
  {
   "cell_type": "code",
   "execution_count": 4,
   "id": "d8ca5a31",
   "metadata": {
    "pycharm": {
     "name": "#%%\n"
    }
   },
   "outputs": [
    {
     "data": {
      "text/html": [
       "<table class=\"simpletable\">\n",
       "<caption>OLS Regression Results</caption>\n",
       "<tr>\n",
       "  <th>Dep. Variable:</th>          <td>Sales</td>      <th>  R-squared:         </th> <td>   0.612</td>\n",
       "</tr>\n",
       "<tr>\n",
       "  <th>Model:</th>                   <td>OLS</td>       <th>  Adj. R-squared:    </th> <td>   0.610</td>\n",
       "</tr>\n",
       "<tr>\n",
       "  <th>Method:</th>             <td>Least Squares</td>  <th>  F-statistic:       </th> <td>   312.1</td>\n",
       "</tr>\n",
       "<tr>\n",
       "  <th>Date:</th>             <td>Sun, 04 Dec 2022</td> <th>  Prob (F-statistic):</th> <td>1.47e-42</td>\n",
       "</tr>\n",
       "<tr>\n",
       "  <th>Time:</th>                 <td>10:19:21</td>     <th>  Log-Likelihood:    </th> <td> -519.05</td>\n",
       "</tr>\n",
       "<tr>\n",
       "  <th>No. Observations:</th>      <td>   200</td>      <th>  AIC:               </th> <td>   1042.</td>\n",
       "</tr>\n",
       "<tr>\n",
       "  <th>Df Residuals:</th>          <td>   198</td>      <th>  BIC:               </th> <td>   1049.</td>\n",
       "</tr>\n",
       "<tr>\n",
       "  <th>Df Model:</th>              <td>     1</td>      <th>                     </th>     <td> </td>   \n",
       "</tr>\n",
       "<tr>\n",
       "  <th>Covariance Type:</th>      <td>nonrobust</td>    <th>                     </th>     <td> </td>   \n",
       "</tr>\n",
       "</table>\n",
       "<table class=\"simpletable\">\n",
       "<tr>\n",
       "      <td></td>         <th>coef</th>     <th>std err</th>      <th>t</th>      <th>P>|t|</th>  <th>[0.025</th>    <th>0.975]</th>  \n",
       "</tr>\n",
       "<tr>\n",
       "  <th>Intercept</th> <td>    7.0326</td> <td>    0.458</td> <td>   15.360</td> <td> 0.000</td> <td>    6.130</td> <td>    7.935</td>\n",
       "</tr>\n",
       "<tr>\n",
       "  <th>TV</th>        <td>    0.0475</td> <td>    0.003</td> <td>   17.668</td> <td> 0.000</td> <td>    0.042</td> <td>    0.053</td>\n",
       "</tr>\n",
       "</table>\n",
       "<table class=\"simpletable\">\n",
       "<tr>\n",
       "  <th>Omnibus:</th>       <td> 0.531</td> <th>  Durbin-Watson:     </th> <td>   1.935</td>\n",
       "</tr>\n",
       "<tr>\n",
       "  <th>Prob(Omnibus):</th> <td> 0.767</td> <th>  Jarque-Bera (JB):  </th> <td>   0.669</td>\n",
       "</tr>\n",
       "<tr>\n",
       "  <th>Skew:</th>          <td>-0.089</td> <th>  Prob(JB):          </th> <td>   0.716</td>\n",
       "</tr>\n",
       "<tr>\n",
       "  <th>Kurtosis:</th>      <td> 2.779</td> <th>  Cond. No.          </th> <td>    338.</td>\n",
       "</tr>\n",
       "</table><br/><br/>Notes:<br/>[1] Standard Errors assume that the covariance matrix of the errors is correctly specified."
      ],
      "text/plain": [
       "<class 'statsmodels.iolib.summary.Summary'>\n",
       "\"\"\"\n",
       "                            OLS Regression Results                            \n",
       "==============================================================================\n",
       "Dep. Variable:                  Sales   R-squared:                       0.612\n",
       "Model:                            OLS   Adj. R-squared:                  0.610\n",
       "Method:                 Least Squares   F-statistic:                     312.1\n",
       "Date:                Sun, 04 Dec 2022   Prob (F-statistic):           1.47e-42\n",
       "Time:                        10:19:21   Log-Likelihood:                -519.05\n",
       "No. Observations:                 200   AIC:                             1042.\n",
       "Df Residuals:                     198   BIC:                             1049.\n",
       "Df Model:                           1                                         \n",
       "Covariance Type:            nonrobust                                         \n",
       "==============================================================================\n",
       "                 coef    std err          t      P>|t|      [0.025      0.975]\n",
       "------------------------------------------------------------------------------\n",
       "Intercept      7.0326      0.458     15.360      0.000       6.130       7.935\n",
       "TV             0.0475      0.003     17.668      0.000       0.042       0.053\n",
       "==============================================================================\n",
       "Omnibus:                        0.531   Durbin-Watson:                   1.935\n",
       "Prob(Omnibus):                  0.767   Jarque-Bera (JB):                0.669\n",
       "Skew:                          -0.089   Prob(JB):                        0.716\n",
       "Kurtosis:                       2.779   Cond. No.                         338.\n",
       "==============================================================================\n",
       "\n",
       "Notes:\n",
       "[1] Standard Errors assume that the covariance matrix of the errors is correctly specified.\n",
       "\"\"\""
      ]
     },
     "execution_count": 4,
     "metadata": {},
     "output_type": "execute_result"
    }
   ],
   "source": [
    "import statsmodels.formula.api as sm\n",
    "\n",
    "regression_model = sm.ols(formula=\"Sales~TV\",data=df)\n",
    "results = regression_model.fit()\n",
    "results.summary()"
   ]
  },
  {
   "cell_type": "markdown",
   "id": "2752ca10",
   "metadata": {
    "pycharm": {
     "name": "#%% md\n"
    }
   },
   "source": [
    "$$ \\hat{y} = 7.0326 + 0.0475X + \\epsilon$$"
   ]
  },
  {
   "cell_type": "code",
   "execution_count": 5,
   "id": "009d823f",
   "metadata": {
    "pycharm": {
     "name": "#%%\n"
    }
   },
   "outputs": [
    {
     "data": {
      "image/png": "[encoded data removed]",
      "text/plain": [
       "<Figure size 864x432 with 1 Axes>"
      ]
     },
     "metadata": {
      "needs_background": "light"
     },
     "output_type": "display_data"
    }
   ],
   "source": [
    "fig, axes = plt.subplots(figsize=(12,6))\n",
    "axes.plot(df[\"TV\"],df[\"Sales\"], \"o\" ,alpha =0.4)\n",
    "axes.plot(df[\"TV\"],results.predict(df[\"TV\"]))\n",
    "axes.set_xlabel(\"TV advertising(1000$)\")\n",
    "axes.set_ylabel(\"Sales(1000$)\")\n",
    "axes.set_title(\"TV Advertising vs Sales\")\n",
    "plt.show()"
   ]
  },
  {
   "cell_type": "code",
   "execution_count": 6,
   "id": "51f0c1b4",
   "metadata": {
    "pycharm": {
     "name": "#%%\n"
    }
   },
   "outputs": [
    {
     "data": {
      "image/png": "[encoded data removed]",
      "text/plain": [
       "<Figure size 864x432 with 1 Axes>"
      ]
     },
     "metadata": {
      "needs_background": "light"
     },
     "output_type": "display_data"
    }
   ],
   "source": [
    "fig, axes = plt.subplots(figsize=(12,6))\n",
    "axes.plot(df[\"TV\"].iloc[0:10],df[\"Sales\"].iloc[0:10], \"o\" ,alpha =0.4)\n",
    "axes.plot(df[\"TV\"],results.predict(df[\"TV\"]))\n",
    "axes.set_xlabel(\"TV advertising(1000$)\")\n",
    "axes.set_ylabel(\"Sales(1000$)\")\n",
    "axes.set_title(\"TV Advertising vs Sales\")\n",
    "plt.show()"
   ]
  },
  {
   "cell_type": "markdown",
   "id": "4e81737f",
   "metadata": {
    "pycharm": {
     "name": "#%% md\n"
    }
   },
   "source": [
    "### Linear Regression with sklearn\n",
    "https://scikit-learn.org/stable/modules/generated/sklearn.linear_model.LinearRegression.html"
   ]
  },
  {
   "cell_type": "code",
   "execution_count": 7,
   "id": "a84a6982",
   "metadata": {
    "pycharm": {
     "name": "#%%\n"
    }
   },
   "outputs": [],
   "source": [
    "from sklearn.linear_model import LinearRegression\n",
    "from sklearn.model_selection import train_test_split\n",
    "from sklearn.metrics import mean_squared_error\n",
    "import pandas as pd\n",
    "import numpy as np"
   ]
  },
  {
   "cell_type": "code",
   "execution_count": 8,
   "id": "fbffa619",
   "metadata": {
    "pycharm": {
     "name": "#%%\n"
    }
   },
   "outputs": [
    {
     "name": "stdout",
     "output_type": "stream",
     "text": [
      "\n",
      "\n",
      "And, the first few rows of our data:\n"
     ]
    },
    {
     "data": {
      "text/html": [
       "<div>\n",
       "<style scoped>\n",
       "    .dataframe tbody tr th:only-of-type {\n",
       "        vertical-align: middle;\n",
       "    }\n",
       "\n",
       "    .dataframe tbody tr th {\n",
       "        vertical-align: top;\n",
       "    }\n",
       "\n",
       "    .dataframe thead th {\n",
       "        text-align: right;\n",
       "    }\n",
       "</style>\n",
       "<table border=\"1\" class=\"dataframe\">\n",
       "  <thead>\n",
       "    <tr style=\"text-align: right;\">\n",
       "      <th></th>\n",
       "      <th>TV</th>\n",
       "      <th>Radio</th>\n",
       "      <th>Newspaper</th>\n",
       "      <th>Sales</th>\n",
       "    </tr>\n",
       "  </thead>\n",
       "  <tbody>\n",
       "    <tr>\n",
       "      <th>0</th>\n",
       "      <td>230.1</td>\n",
       "      <td>37.8</td>\n",
       "      <td>69.2</td>\n",
       "      <td>22.1</td>\n",
       "    </tr>\n",
       "    <tr>\n",
       "      <th>1</th>\n",
       "      <td>44.5</td>\n",
       "      <td>39.3</td>\n",
       "      <td>45.1</td>\n",
       "      <td>10.4</td>\n",
       "    </tr>\n",
       "    <tr>\n",
       "      <th>2</th>\n",
       "      <td>17.2</td>\n",
       "      <td>45.9</td>\n",
       "      <td>69.3</td>\n",
       "      <td>9.3</td>\n",
       "    </tr>\n",
       "    <tr>\n",
       "      <th>3</th>\n",
       "      <td>151.5</td>\n",
       "      <td>41.3</td>\n",
       "      <td>58.5</td>\n",
       "      <td>18.5</td>\n",
       "    </tr>\n",
       "    <tr>\n",
       "      <th>4</th>\n",
       "      <td>180.8</td>\n",
       "      <td>10.8</td>\n",
       "      <td>58.4</td>\n",
       "      <td>12.9</td>\n",
       "    </tr>\n",
       "  </tbody>\n",
       "</table>\n",
       "</div>"
      ],
      "text/plain": [
       "      TV  Radio  Newspaper  Sales\n",
       "0  230.1   37.8       69.2   22.1\n",
       "1   44.5   39.3       45.1   10.4\n",
       "2   17.2   45.9       69.3    9.3\n",
       "3  151.5   41.3       58.5   18.5\n",
       "4  180.8   10.8       58.4   12.9"
      ]
     },
     "metadata": {},
     "output_type": "display_data"
    }
   ],
   "source": [
    "df = pd.read_csv(\"Advertising.csv\")\n",
    "X= df.drop(\"Sales\", axis=1)\n",
    "y = df[\"Sales\"]\n",
    "\n",
    "print(\"\\n\\nAnd, the first few rows of our data:\")\n",
    "display(df.head())\n"
   ]
  },
  {
   "cell_type": "markdown",
   "id": "051ecf6f",
   "metadata": {
    "pycharm": {
     "name": "#%% md\n"
    }
   },
   "source": [
    "#### divide the data into train, and test  "
   ]
  },
  {
   "cell_type": "code",
   "execution_count": 9,
   "id": "adb3cf90",
   "metadata": {
    "pycharm": {
     "name": "#%%\n"
    }
   },
   "outputs": [],
   "source": [
    "random_state=1\n",
    "X_train, X_test, y_train, y_test = train_test_split(X,y,train_size=0.8, random_state=1)"
   ]
  },
  {
   "cell_type": "code",
   "execution_count": 10,
   "id": "3bc11280",
   "metadata": {
    "pycharm": {
     "name": "#%%\n"
    }
   },
   "outputs": [
    {
     "data": {
      "text/plain": [
       "(160, 3)"
      ]
     },
     "execution_count": 10,
     "metadata": {},
     "output_type": "execute_result"
    }
   ],
   "source": [
    "X_train.shape"
   ]
  },
  {
   "cell_type": "code",
   "execution_count": 11,
   "id": "4c27bb77",
   "metadata": {
    "pycharm": {
     "name": "#%%\n"
    }
   },
   "outputs": [
    {
     "data": {
      "text/plain": [
       "(40, 3)"
      ]
     },
     "execution_count": 11,
     "metadata": {},
     "output_type": "execute_result"
    }
   ],
   "source": [
    "X_test.shape"
   ]
  },
  {
   "cell_type": "markdown",
   "id": "9b55340f",
   "metadata": {
    "pycharm": {
     "name": "#%% md\n"
    }
   },
   "source": [
    "#### train the model"
   ]
  },
  {
   "cell_type": "code",
   "execution_count": 12,
   "id": "4cf4ee33",
   "metadata": {
    "pycharm": {
     "name": "#%%\n"
    }
   },
   "outputs": [
    {
     "name": "stdout",
     "output_type": "stream",
     "text": [
      "The rsquared for train set is 0.320775\n",
      "The rsquared for test set is 0.357139\n"
     ]
    }
   ],
   "source": [
    "#instantiate the LinearRegression class from sklearn\n",
    "model = LinearRegression()\n",
    "\n",
    "#train the model\n",
    "model.fit(X_train[[\"Radio\"]], y_train)\n",
    "\n",
    "#predict on training \n",
    "\n",
    "y_pred_train = model.predict(X_train[[\"Radio\"]])\n",
    "\n",
    "rsquared_train = model.score(X_train[[\"Radio\"]],y_train)\n",
    "\n",
    "#predict on test\n",
    "y_pred_test = model.predict(X_test[[\"Radio\"]])\n",
    "rsquared_test = model.score(X_test[[\"Radio\"]],y_test)\n",
    "\n",
    "print(f'The rsquared for train set is {rsquared_train:4f}')\n",
    "print(f'The rsquared for test set is {rsquared_test:4f}')\n"
   ]
  },
  {
   "cell_type": "markdown",
   "id": "8c4ecbe5",
   "metadata": {
    "pycharm": {
     "name": "#%% md\n"
    }
   },
   "source": [
    "#### Getting the intercept, and coef"
   ]
  },
  {
   "cell_type": "code",
   "execution_count": 13,
   "id": "c51a47a0",
   "metadata": {
    "pycharm": {
     "name": "#%%\n"
    }
   },
   "outputs": [
    {
     "data": {
      "text/plain": [
       "array([0.20071881])"
      ]
     },
     "execution_count": 13,
     "metadata": {},
     "output_type": "execute_result"
    }
   ],
   "source": [
    "model.coef_"
   ]
  },
  {
   "cell_type": "code",
   "execution_count": 14,
   "id": "b60e0293",
   "metadata": {
    "pycharm": {
     "name": "#%%\n"
    },
    "scrolled": true
   },
   "outputs": [
    {
     "data": {
      "text/plain": [
       "9.134125488582198"
      ]
     },
     "execution_count": 14,
     "metadata": {},
     "output_type": "execute_result"
    }
   ],
   "source": [
    "model.intercept_"
   ]
  },
  {
   "cell_type": "markdown",
   "id": "15e81d57",
   "metadata": {
    "pycharm": {
     "name": "#%% md\n"
    }
   },
   "source": [
    "$$y = 9.13 + 0.2X $$"
   ]
  },
  {
   "cell_type": "markdown",
   "id": "28ffb3be",
   "metadata": {
    "pycharm": {
     "name": "#%% md\n"
    }
   },
   "source": [
    "### calculating other metrics \n",
    "\n",
    "##### residual\n",
    "\n",
    "$ y - \\hat{y} $"
   ]
  },
  {
   "cell_type": "code",
   "execution_count": 15,
   "id": "2b110d2b",
   "metadata": {
    "pycharm": {
     "name": "#%%\n"
    }
   },
   "outputs": [],
   "source": [
    "residual_train = y_train - y_pred_train\n",
    "residual_test = y_test - y_pred_test"
   ]
  },
  {
   "cell_type": "markdown",
   "id": "5fc521b1",
   "metadata": {
    "pycharm": {
     "name": "#%% md\n"
    }
   },
   "source": [
    "##### Sum squared error \n",
    "$$\\sum{(y -\\hat{y})^2}$$\n",
    "\n",
    "or \n",
    "\n",
    "$$\\sum{residuals_{i}^{2}}$$ \n"
   ]
  },
  {
   "cell_type": "code",
   "execution_count": 16,
   "id": "7c7096f8",
   "metadata": {
    "pycharm": {
     "name": "#%%\n"
    }
   },
   "outputs": [
    {
     "name": "stdout",
     "output_type": "stream",
     "text": [
      "The sse for train set is 3150.571996\n",
      "The sse for test set is 477.625323\n"
     ]
    }
   ],
   "source": [
    "sse_train = np.sum(residual_train**2)\n",
    "sse_test = np.sum(residual_test**2)\n",
    "\n",
    "print(f'The sse for train set is {sse_train:4f}')\n",
    "print(f'The sse for test set is {sse_test:4f}')"
   ]
  },
  {
   "cell_type": "markdown",
   "id": "643df478",
   "metadata": {
    "pycharm": {
     "name": "#%% md\n"
    }
   },
   "source": [
    "##### Mean squared Error (MSE) our loss function. This is the metric you will be working with in machine learning\n",
    "\n",
    "$$\\frac{1}{n} \\sum{(y -\\hat{y})^2}$$\n",
    "\n",
    "or \n",
    "\n",
    "$$ \\frac{1}{n} sse  $$ "
   ]
  },
  {
   "cell_type": "code",
   "execution_count": 17,
   "id": "787aebe3",
   "metadata": {
    "pycharm": {
     "name": "#%%\n"
    }
   },
   "outputs": [
    {
     "name": "stdout",
     "output_type": "stream",
     "text": [
      "The mse for train set is 19.691075\n",
      "The mse for test set is 78.764300\n"
     ]
    }
   ],
   "source": [
    "mse_train = sse_train / len(X_train)\n",
    "mse_test = sse_train / len(X_test)\n",
    "print(f'The mse for train set is {mse_train:4f}')\n",
    "print(f'The mse for test set is {mse_test:4f}')"
   ]
  },
  {
   "cell_type": "markdown",
   "id": "61634e34",
   "metadata": {
    "pycharm": {
     "name": "#%% md\n"
    }
   },
   "source": [
    "##### SST - Sum squared total \n",
    "\n",
    "$$\\sum{(y -{y_{avg}})^2}$$"
   ]
  },
  {
   "cell_type": "code",
   "execution_count": 18,
   "id": "642d2d9a",
   "metadata": {
    "pycharm": {
     "name": "#%%\n"
    }
   },
   "outputs": [],
   "source": [
    "sst_train =np.sum((y_train - np.mean(y_train))**2)\n",
    "sst_test = np.sum((y_test - np.mean(y_test))**2)\n"
   ]
  },
  {
   "cell_type": "markdown",
   "id": "372334dd",
   "metadata": {
    "pycharm": {
     "name": "#%% md\n"
    }
   },
   "source": [
    "##### $R^2$    aka score calculated by sklearn\n",
    "\n",
    "$$ R^2 = 1 - \\frac{sse}{sst}$$"
   ]
  },
  {
   "cell_type": "code",
   "execution_count": 19,
   "id": "2b94e488",
   "metadata": {
    "pycharm": {
     "name": "#%%\n"
    },
    "scrolled": true
   },
   "outputs": [
    {
     "name": "stdout",
     "output_type": "stream",
     "text": [
      "The rsquared for train set is 0.320775\n",
      "The rsquared for test set is 0.357139\n"
     ]
    }
   ],
   "source": [
    "rsq_train = 1 - (sse_train/sst_train)\n",
    "rsq_test = 1 - (sse_test/sst_test)\n",
    "\n",
    "print(f'The rsquared for train set is {rsq_train:4f}')\n",
    "print(f'The rsquared for test set is {rsq_test:4f}')"
   ]
  },
  {
   "cell_type": "code",
   "execution_count": 21,
   "id": "53d0cf80",
   "metadata": {},
   "outputs": [
    {
     "data": {
      "text/plain": [
       "(160, 3)"
      ]
     },
     "execution_count": 21,
     "metadata": {},
     "output_type": "execute_result"
    }
   ],
   "source": [
    "X_train.shape"
   ]
  },
  {
   "cell_type": "code",
   "execution_count": 22,
   "id": "8520ec4a",
   "metadata": {},
   "outputs": [
    {
     "data": {
      "text/plain": [
       "(160,)"
      ]
     },
     "execution_count": 22,
     "metadata": {},
     "output_type": "execute_result"
    }
   ],
   "source": [
    "y_train.shape"
   ]
  },
  {
   "cell_type": "code",
   "execution_count": 27,
   "id": "78d381b5",
   "metadata": {
    "pycharm": {
     "name": "#%%\n"
    },
    "scrolled": true
   },
   "outputs": [
    {
     "data": {
      "image/png": "[encoded data removed]",
      "text/plain": [
       "<Figure size 864x360 with 1 Axes>"
      ]
     },
     "metadata": {
      "needs_background": "light"
     },
     "output_type": "display_data"
    }
   ],
   "source": [
    "fig, axes = plt.subplots(figsize=(12,5))\n",
    "#x = np.linspace(X_test.min(), X_test.max(),200)\n",
    "y_avg = [np.mean(y_train) for i in range(X_train.shape[0])]\n",
    "\n",
    "\n",
    "axes.plot(X_train['Radio'],y_train, \"o\" ,alpha =0.4, label=\"Train\")\n",
    "axes.plot(X_test['Radio'],y_test,\"^\",alpha=0.4, label=\"Test\" )\n",
    "axes.plot(X_train['Radio'], y_avg , \".\", color='black', label=\"y_avg\", alpha=1, linewidth=1, markersize=4)\n",
    "\n",
    "axes.set_xlabel(\"Radio(1000)\")\n",
    "axes.set_ylabel(\"Sales(1000)\")\n",
    "axes.set_title(\"Radio vs Sales predicting the average\")\n",
    "plt.show()\n"
   ]
  },
  {
   "cell_type": "code",
   "execution_count": 30,
   "id": "7d9d9679",
   "metadata": {
    "pycharm": {
     "name": "#%%\n"
    }
   },
   "outputs": [
    {
     "name": "stderr",
     "output_type": "stream",
     "text": [
      "/home/riku/anaconda3/lib/python3.9/site-packages/sklearn/base.py:450: UserWarning: X does not have valid feature names, but LinearRegression was fitted with feature names\n",
      "  warnings.warn(\n"
     ]
    },
    {
     "data": {
      "image/png": "[encoded data removed]",
      "text/plain": [
       "<Figure size 864x576 with 1 Axes>"
      ]
     },
     "metadata": {
      "needs_background": "light"
     },
     "output_type": "display_data"
    }
   ],
   "source": [
    "fig, axes = plt.subplots(figsize=(12,8))\n",
    "x = np.linspace(5, 70,500)\n",
    "temp = model.predict(x.reshape(-1,1))\n",
    "\n",
    "axes.plot(X_train['Radio'],y_train, \"o\" ,alpha =0.4, label=\"Train\")\n",
    "axes.plot(X_test['Radio'],y_test,\"^\",alpha=0.4, label=\"Test\" )\n",
    "axes.plot(x, temp , \".\", color='black', label=\"y_avg\", alpha=1, linewidth=1, markersize=4)\n",
    "\n",
    "axes.set_xlabel(\"Radio(1000)\")\n",
    "axes.set_ylabel(\"Sales(1000)\")\n",
    "axes.set_title(\"Radio vs Sales\")\n",
    "plt.show()"
   ]
  },
  {
   "cell_type": "code",
   "execution_count": 36,
   "id": "2ab1a5ff",
   "metadata": {
    "pycharm": {
     "name": "#%%\n"
    }
   },
   "outputs": [
    {
     "data": {
      "image/png": "[encoded data removed]",
      "text/plain": [
       "<Figure size 576x2160 with 4 Axes>"
      ]
     },
     "metadata": {
      "needs_background": "light"
     },
     "output_type": "display_data"
    }
   ],
   "source": [
    "x = np.arange(1,50,1)\n",
    "fig, axes = plt.subplots(4 ,figsize=(8,30))\n",
    "ax = axes.ravel()\n",
    "\n",
    "ax[0].plot(x,x, \"-\" ,alpha =0.4, label=\"Linear\")\n",
    "ax[1].plot(x,x**2, \"-\" ,alpha =0.4, label=\"Polynomial=2\")\n",
    "ax[2].plot(x,x**3, \"-\" ,alpha =0.4,  label=\"Polynomial=3\")\n",
    "ax[3].plot(x,x**4, \"-\" ,alpha =0.4,  label=\"Polynomial=4\")\n",
    "\n",
    "\n",
    "plt.show()\n"
   ]
  },
  {
   "cell_type": "code",
   "execution_count": 32,
   "id": "db813ec8",
   "metadata": {
    "pycharm": {
     "name": "#%%\n"
    }
   },
   "outputs": [
    {
     "name": "stdout",
     "output_type": "stream",
     "text": [
      "The rsquared for train set is 0.895937\n",
      "The rsquared for test set is 0.892761\n"
     ]
    }
   ],
   "source": [
    "#instantiate the LinearRegression class from sklearn\n",
    "model = LinearRegression()\n",
    "\n",
    "#train the model\n",
    "model.fit(X_train, y_train)\n",
    "\n",
    "#predict on training \n",
    "\n",
    "y_pred_train = model.predict(X_train)\n",
    "\n",
    "rsquared_train = model.score(X_train,y_train)\n",
    "\n",
    "#predict on test\n",
    "y_pred_test = model.predict(X_test)\n",
    "rsquared_test = model.score(X_test,y_test)\n",
    "\n",
    "print(f'The rsquared for train set is {rsquared_train:4f}')\n",
    "print(f'The rsquared for test set is {rsquared_test:4f}')\n"
   ]
  },
  {
   "cell_type": "code",
   "execution_count": 34,
   "id": "34bfd1d7",
   "metadata": {
    "pycharm": {
     "name": "#%%\n"
    }
   },
   "outputs": [
    {
     "data": {
      "text/plain": [
       "array([0.0468431 , 0.17854434, 0.00258619])"
      ]
     },
     "execution_count": 34,
     "metadata": {},
     "output_type": "execute_result"
    }
   ],
   "source": [
    "model.coef_"
   ]
  },
  {
   "cell_type": "code",
   "execution_count": 35,
   "id": "75296d5e",
   "metadata": {
    "pycharm": {
     "name": "#%%\n"
    }
   },
   "outputs": [
    {
     "data": {
      "text/plain": [
       "2.907947020816433"
      ]
     },
     "execution_count": 35,
     "metadata": {},
     "output_type": "execute_result"
    }
   ],
   "source": [
    "model.intercept_"
   ]
  },
  {
   "cell_type": "code",
   "execution_count": null,
   "id": "bd1b574c",
   "metadata": {
    "pycharm": {
     "name": "#%%\n"
    }
   },
   "outputs": [],
   "source": []
  }
 ],
 "metadata": {
  "kernelspec": {
   "display_name": "Python 3 (ipykernel)",
   "language": "python",
   "name": "python3"
  },
  "language_info": {
   "codemirror_mode": {
    "name": "ipython",
    "version": 3
   },
   "file_extension": ".py",
   "mimetype": "text/x-python",
   "name": "python",
   "nbconvert_exporter": "python",
   "pygments_lexer": "ipython3",
   "version": "3.9.12"
  }
 },
 "nbformat": 4,
 "nbformat_minor": 5
}
